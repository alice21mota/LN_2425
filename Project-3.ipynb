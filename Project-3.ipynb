{
  "cells": [
    {
      "cell_type": "markdown",
      "metadata": {
        "id": "9ai0bSdHEiTx"
      },
      "source": [
        "# **Project**"
      ]
    },
    {
      "cell_type": "markdown",
      "metadata": {
        "id": "QQ8KKxo8FAJH"
      },
      "source": [
        "# 1. Imports"
      ]
    },
    {
      "cell_type": "code",
      "execution_count": 40,
      "metadata": {
        "colab": {
          "base_uri": "https://localhost:8080/"
        },
        "id": "tTjSM6HyENl0",
        "outputId": "adca7d71-bd4e-41c9-c4ad-c29d2ab5aaaa"
      },
      "outputs": [
        {
          "output_type": "stream",
          "name": "stderr",
          "text": [
            "[nltk_data] Downloading package stopwords to /root/nltk_data...\n",
            "[nltk_data]   Package stopwords is already up-to-date!\n",
            "[nltk_data] Downloading package vader_lexicon to /root/nltk_data...\n",
            "[nltk_data]   Package vader_lexicon is already up-to-date!\n",
            "[nltk_data] Downloading package punkt to /root/nltk_data...\n",
            "[nltk_data]   Package punkt is already up-to-date!\n",
            "[nltk_data] Downloading package wordnet to /root/nltk_data...\n",
            "[nltk_data]   Package wordnet is already up-to-date!\n"
          ]
        },
        {
          "output_type": "execute_result",
          "data": {
            "text/plain": [
              "True"
            ]
          },
          "metadata": {},
          "execution_count": 40
        }
      ],
      "source": [
        "import numpy as np\n",
        "import pandas as pd\n",
        "import nltk\n",
        "import re\n",
        "import string\n",
        "import matplotlib.pyplot as plt\n",
        "from sklearn.model_selection import GridSearchCV\n",
        "from nltk.sentiment.vader import SentimentIntensityAnalyzer\n",
        "from sklearn.feature_extraction.text import TfidfTransformer\n",
        "from sklearn.feature_extraction.text import CountVectorizer\n",
        "from sklearn.feature_extraction.text import TfidfVectorizer\n",
        "from sklearn.model_selection import train_test_split\n",
        "from sklearn.preprocessing import LabelEncoder\n",
        "from nltk.stem import PorterStemmer\n",
        "from nltk.stem import WordNetLemmatizer\n",
        "from sklearn.naive_bayes import GaussianNB\n",
        "from sklearn.naive_bayes import MultinomialNB\n",
        "from sklearn.model_selection import StratifiedKFold\n",
        "from sklearn import svm\n",
        "from sklearn.pipeline import Pipeline\n",
        "from sklearn.metrics import classification_report\n",
        "from nltk.corpus import stopwords\n",
        "from nltk.tokenize import sent_tokenize, word_tokenize\n",
        "from sklearn.metrics import classification_report, accuracy_score\n",
        "\n",
        "nltk.download('stopwords')\n",
        "nltk.download('vader_lexicon')\n",
        "nltk.download('punkt')\n",
        "nltk.download('wordnet')"
      ]
    },
    {
      "cell_type": "markdown",
      "metadata": {
        "id": "IoMqPiSKFLap"
      },
      "source": [
        "# 2. Dataset load"
      ]
    },
    {
      "cell_type": "code",
      "execution_count": 41,
      "metadata": {
        "colab": {
          "base_uri": "https://localhost:8080/"
        },
        "id": "IslE7J7IE97K",
        "outputId": "9c83d13d-d30a-44bb-eb0c-435682414355"
      },
      "outputs": [
        {
          "output_type": "stream",
          "name": "stdout",
          "text": [
            "                       title       from    genre       director  \\\n",
            "0               Ela Cheppanu     Telugu  romance         Ramana   \n",
            "1  A Nightmare on Elm Street   American   horror   Samuel Bayer   \n",
            "2            American Gothic   American   horror     John Hough   \n",
            "3                       Gang  Bollywood    crime    Mazhar Khan   \n",
            "4         Intimate Relations    British    drama  Charles Frank   \n",
            "\n",
            "                                                plot  \n",
            "0  Sekhar (Tarun) is a graduate from IIM and work...  \n",
            "1  Kris Fowles (Katie Cassidy) goes to the Spring...  \n",
            "2  Cynthia is traumatized by the death of her bab...  \n",
            "3  Four friends, Gangu (Jackie Shroff), Abdul (Na...  \n",
            "4  Crisis in a middle-class family when the son f...  \n"
          ]
        }
      ],
      "source": [
        "# Add the dataset the sample_data folder (on the left side)\n",
        "\n",
        "# Load the dataset\n",
        "train = pd.read_csv('/content/sample_data/train.txt', sep='\\t', names=['title', 'from', 'genre', 'director', 'plot'])\n",
        "\n",
        "X = train['plot']\n",
        "y = train['genre']\n",
        "#x_test = test['title', 'form', 'director', 'plot']\n",
        "\n",
        "\n",
        "# Inspect the first few rows\n",
        "print(train.head())"
      ]
    },
    {
      "cell_type": "markdown",
      "metadata": {
        "id": "PROoG8OkJpRA"
      },
      "source": [
        "# 3. Pre-processing"
      ]
    },
    {
      "cell_type": "code",
      "execution_count": 42,
      "metadata": {
        "colab": {
          "base_uri": "https://localhost:8080/"
        },
        "id": "8hfEEj6MJuZL",
        "outputId": "8734ee9c-e56a-4474-8adf-d081f9188d28"
      },
      "outputs": [
        {
          "output_type": "stream",
          "name": "stdout",
          "text": [
            "0    sekhar graduat iim work busi manag firm hydera...\n",
            "1    kri fowl go springwood diner meet exboyfriend ...\n",
            "2    cynthia traumat death babi leav bathtub accide...\n",
            "3    four friend gangu abdul nihal gari form word g...\n",
            "4    crisi middleclass famili son fall love father ...\n",
            "Name: plot, dtype: object\n"
          ]
        }
      ],
      "source": [
        "# Pre-processing elements\n",
        "\n",
        "stop = stopwords.words('english')\n",
        "including = ['no', 'nor', 'not', 'but', 'against', 'only']\n",
        "lemmatizer = WordNetLemmatizer()\n",
        "stemmer = PorterStemmer()\n",
        "\n",
        "def apply_preprocessing(text):\n",
        "\n",
        "  lowered = text.lower()\n",
        "  # Remove everything that is not a word or inside parenthesis\n",
        "  lowered_re = re.sub(r'\\(.*?\\)|[^a-zA-Z\\s]', '', lowered)\n",
        "  tokens = word_tokenize(lowered_re, \"english\")\n",
        "\n",
        "  # Remove ponctuation\n",
        "  for token in tokens:\n",
        "        if(all(char in string.punctuation for char in token)):\n",
        "            tokens.remove(token)\n",
        "\n",
        "  filtered_tokens = [word for word in tokens if word not in stop]\n",
        "\n",
        "  lemmatizer = WordNetLemmatizer()\n",
        "  processed_tokens = [stemmer.stem(lemmatizer.lemmatize(token)) for token in filtered_tokens]\n",
        "\n",
        "  return ' '.join(processed_tokens)\n",
        "\n",
        "\n",
        "# Apply preprocessing\n",
        "X = X.apply(apply_preprocessing)\n",
        "\n",
        "# spliting the data\n",
        "X_train, X_test, y_train, y_test = train_test_split(X, y, test_size=0.125, random_state=1)\n",
        "\n",
        "\n",
        "\n",
        "print(X.head())"
      ]
    },
    {
      "cell_type": "markdown",
      "metadata": {
        "id": "nhqZzwgby11d"
      },
      "source": [
        "# 4. Apply Naive Bayes"
      ]
    },
    {
      "cell_type": "code",
      "execution_count": 43,
      "metadata": {
        "id": "HeLlhrqbzAA0",
        "colab": {
          "base_uri": "https://localhost:8080/"
        },
        "outputId": "8f8f5f5c-640c-4ff6-d600-35dc1f4a679b"
      },
      "outputs": [
        {
          "output_type": "stream",
          "name": "stderr",
          "text": [
            "/usr/local/lib/python3.10/dist-packages/numpy/ma/core.py:2820: RuntimeWarning: invalid value encountered in cast\n",
            "  _data = np.array(data, dtype=dtype, copy=copy,\n"
          ]
        },
        {
          "output_type": "stream",
          "name": "stdout",
          "text": [
            "{'clf__alpha': 0.1, 'tfidf__use_idf': False, 'vect__max_features': 5000}\n",
            "Classification Report:\n",
            "              precision    recall  f1-score   support\n",
            "\n",
            "      action       0.60      0.56      0.58        95\n",
            "   animation       0.91      0.70      0.79        57\n",
            "      comedy       0.63      0.48      0.55       126\n",
            "       crime       0.61      0.33      0.43        57\n",
            "       drama       0.45      0.66      0.54       162\n",
            "      horror       0.74      0.85      0.79       112\n",
            "     romance       0.61      0.61      0.61       102\n",
            "      sci-fi       0.73      0.28      0.40        29\n",
            "     western       0.95      0.95      0.95        95\n",
            "\n",
            "    accuracy                           0.64       835\n",
            "   macro avg       0.69      0.60      0.63       835\n",
            "weighted avg       0.66      0.64      0.64       835\n",
            "\n",
            "Accuracy Score: 0.6407185628742516\n"
          ]
        }
      ],
      "source": [
        "# Create a pipeline with custom tokenizer\n",
        "nb_pipeline = Pipeline([\n",
        "    ('vect', CountVectorizer()),\n",
        "    ('tfidf', TfidfTransformer()),\n",
        "    ('clf', MultinomialNB()),\n",
        "])\n",
        "\n",
        "# Parameters for grid search\n",
        "parameters = {\n",
        "    'vect__max_features': [1000, 3000, 5000, 10000, 15000, 20000],\n",
        "    'tfidf__use_idf': [True, False],\n",
        "    'clf__alpha': [0.1, 0.2, 0.5, 1.0],\n",
        "}\n",
        "\n",
        "# Stratified K-Fold cross-validation\n",
        "skf = StratifiedKFold(n_splits=3)\n",
        "\n",
        "# Perform Grid Search\n",
        "grid_search = GridSearchCV(nb_pipeline, parameters, cv=skf)\n",
        "grid_search.fit(X_train, y_train)"
      ]
    },
    {
      "cell_type": "markdown",
      "source": [
        "# 5. Evaluation\n"
      ],
      "metadata": {
        "id": "ptxdOq81xf-A"
      }
    },
    {
      "cell_type": "code",
      "source": [
        "# Get the best classifier and make predictions\n",
        "best_classifier = grid_search.best_estimator_\n",
        "y_test_pred = best_classifier.predict(X_test)\n",
        "\n",
        "# Display best parameters\n",
        "print(grid_search.best_params_)\n",
        "\n",
        "# Classification report and accuracy score\n",
        "print(\"Classification Report:\")\n",
        "print(classification_report(y_test, y_test_pred))\n",
        "print(\"Accuracy Score:\", accuracy_score(y_test, y_test_pred))"
      ],
      "metadata": {
        "colab": {
          "base_uri": "https://localhost:8080/"
        },
        "id": "YWjSOXQnxkm1",
        "outputId": "c3622c48-e2f1-4576-dd56-6e123ab1b8ff"
      },
      "execution_count": 44,
      "outputs": [
        {
          "output_type": "stream",
          "name": "stdout",
          "text": [
            "{'clf__alpha': 0.1, 'tfidf__use_idf': False, 'vect__max_features': 5000}\n",
            "Classification Report:\n",
            "              precision    recall  f1-score   support\n",
            "\n",
            "      action       0.60      0.56      0.58        95\n",
            "   animation       0.91      0.70      0.79        57\n",
            "      comedy       0.63      0.48      0.55       126\n",
            "       crime       0.61      0.33      0.43        57\n",
            "       drama       0.45      0.66      0.54       162\n",
            "      horror       0.74      0.85      0.79       112\n",
            "     romance       0.61      0.61      0.61       102\n",
            "      sci-fi       0.73      0.28      0.40        29\n",
            "     western       0.95      0.95      0.95        95\n",
            "\n",
            "    accuracy                           0.64       835\n",
            "   macro avg       0.69      0.60      0.63       835\n",
            "weighted avg       0.66      0.64      0.64       835\n",
            "\n",
            "Accuracy Score: 0.6407185628742516\n"
          ]
        }
      ]
    }
  ],
  "metadata": {
    "colab": {
      "provenance": []
    },
    "kernelspec": {
      "display_name": "Python 3",
      "name": "python3"
    },
    "language_info": {
      "name": "python"
    }
  },
  "nbformat": 4,
  "nbformat_minor": 0
}